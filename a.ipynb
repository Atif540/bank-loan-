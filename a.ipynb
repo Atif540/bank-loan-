{
 "cells": [
  {
   "cell_type": "code",
   "execution_count": 3,
   "metadata": {},
   "outputs": [
    {
     "data": {
      "text/plain": [
       "array([0], dtype=int64)"
      ]
     },
     "execution_count": 3,
     "metadata": {},
     "output_type": "execute_result"
    }
   ],
   "source": [
    "import pandas as pd\n",
    "from sklearn.model_selection import train_test_split\n",
    "from sklearn.linear_model import LogisticRegression\n",
    "\n",
    "df=pd.read_csv('loan_data_set.csv')\n",
    "df\n",
    "\n",
    "df.isnull().sum()\n",
    "\n",
    "from sklearn.preprocessing import StandardScaler, LabelEncoder\n",
    "from sklearn.impute import SimpleImputer\n",
    "\n",
    "imputer = SimpleImputer(strategy='mean')\n",
    "df[['LoanAmount', 'Loan_Amount_Term']] = imputer.fit_transform(df[['LoanAmount', 'Loan_Amount_Term']])\n",
    "\n",
    "SimpleImputer(strategy='most_frequent')\n",
    "df['Credit_History'] = imputer.fit_transform(df[['Credit_History']])\n",
    "\n",
    "# Encode categorical variables\n",
    "le = LabelEncoder()\n",
    "df['Gender'] = le.fit_transform(df['Gender'])\n",
    "df['Married'] = le.fit_transform(df['Married'])\n",
    "df['Education'] = le.fit_transform(df['Education'])\n",
    "df['Self_Employed'] = le.fit_transform(df['Self_Employed'])\n",
    "df['Property_Area'] = le.fit_transform(df['Property_Area'])\n",
    "df['Dependents'] = le.fit_transform(df['Dependents'])\n",
    "#df['Loan_Status'] = le.fit_transform(df['Loan_Status'])\n",
    "\n",
    "df\n",
    "\n",
    "scaler = StandardScaler()\n",
    "df[['ApplicantIncome', 'CoapplicantIncome', 'LoanAmount']] = scaler.fit_transform(df[['ApplicantIncome', 'CoapplicantIncome', 'LoanAmount']])\n",
    "df\n",
    "\n",
    "x=df[['Gender', 'Married', 'Dependents', 'Education', 'Self_Employed', 'ApplicantIncome', 'CoapplicantIncome', 'LoanAmount', 'Loan_Amount_Term', 'Credit_History', 'Property_Area']]\n",
    "y=df['Loan_Status']\n",
    "\n",
    "y=y.map({'Y':1,'N':0})\n",
    "y\n",
    "\n",
    "from sklearn.model_selection import train_test_split\n",
    "x_train,x_test,y_train,y_test=train_test_split(x,y,test_size=0.2,random_state=42)\n",
    "\n",
    "model=LogisticRegression(max_iter=1000)\n",
    "model.fit(x_train,y_train)\n",
    "\n",
    "new_data = pd.DataFrame({\n",
    "    'Gender': [1],\n",
    "    'Married': [0],\n",
    "    'Dependents': [0],\n",
    "    'Education': [0],\n",
    "    'Self_Employed': [0],\n",
    "    'ApplicantIncome': [5000],\n",
    "    'CoapplicantIncome': [0],\n",
    "    'LoanAmount': [200000],\n",
    "    'Loan_Amount_Term': [360],\n",
    "    'Credit_History': [1],\n",
    "    'Property_Area': [2]\n",
    "})\n",
    "model.predict(new_data)"
   ]
  },
  {
   "cell_type": "code",
   "execution_count": 5,
   "metadata": {},
   "outputs": [
    {
     "data": {
      "text/plain": [
       "['model.joblib']"
      ]
     },
     "execution_count": 5,
     "metadata": {},
     "output_type": "execute_result"
    }
   ],
   "source": [
    "import joblib\n",
    "\n",
    "joblib.dump(model, \"model.joblib\")"
   ]
  }
 ],
 "metadata": {
  "kernelspec": {
   "display_name": "Python 3",
   "language": "python",
   "name": "python3"
  },
  "language_info": {
   "codemirror_mode": {
    "name": "ipython",
    "version": 3
   },
   "file_extension": ".py",
   "mimetype": "text/x-python",
   "name": "python",
   "nbconvert_exporter": "python",
   "pygments_lexer": "ipython3",
   "version": "3.12.4"
  }
 },
 "nbformat": 4,
 "nbformat_minor": 2
}
